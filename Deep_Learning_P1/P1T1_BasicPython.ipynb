{
  "nbformat": 4,
  "nbformat_minor": 0,
  "metadata": {
    "colab": {
      "name": "P1T1_BasicPython.ipynb",
      "provenance": []
    },
    "kernelspec": {
      "name": "python3",
      "display_name": "Python 3"
    }
  },
  "cells": [
    {
      "cell_type": "markdown",
      "metadata": {
        "id": "lQC5grartlCr"
      },
      "source": [
        "##Max number peasant way"
      ]
    },
    {
      "cell_type": "code",
      "metadata": {
        "colab": {
          "base_uri": "https://localhost:8080/"
        },
        "id": "XlR7gs2Q2Gne",
        "outputId": "60cd4cb6-5359-43f0-83ae-0f7529f5947a"
      },
      "source": [
        "num1 = int(input(\"input the first value \"))\r\n",
        "num2 = int(input(\"input the second value \"))\r\n",
        "num3 = int(input(\"input the third value \"))\r\n",
        "if (num1 > num2 and num1 > num3):\r\n",
        "  print(\"The biggest number is \" + str(num1))\r\n",
        "elif (num2 > num1 and num2 > num3):\r\n",
        "  print(\"The biggest number is \" + str(num2))\r\n",
        "else:\r\n",
        "  print(\"The biggest number is \" + str(num3))"
      ],
      "execution_count": 2,
      "outputs": [
        {
          "output_type": "stream",
          "text": [
            "input the first value 2\n",
            "input the second value 3\n",
            "input the third value 2\n",
            "The biggest number is 3\n"
          ],
          "name": "stdout"
        }
      ]
    },
    {
      "cell_type": "markdown",
      "metadata": {
        "id": "sZqcKWJ6sd1a"
      },
      "source": [
        "##Max number python way"
      ]
    },
    {
      "cell_type": "code",
      "metadata": {
        "id": "gEhwcDn1Gqrq"
      },
      "source": [
        "var1, var2, var3 = input (\"Input three numbers separated only by a coma \").split(\",\")\r\n",
        "print(\"The biggest number is \"+str(max(int(var1),int(var2),int(var3))))"
      ],
      "execution_count": null,
      "outputs": []
    },
    {
      "cell_type": "markdown",
      "metadata": {
        "id": "jMmqalLjvKMX"
      },
      "source": [
        "##Number sum peasant way"
      ]
    },
    {
      "cell_type": "code",
      "metadata": {
        "colab": {
          "base_uri": "https://localhost:8080/"
        },
        "id": "AuaMUJFYxDzx",
        "outputId": "eacf3940-8b09-47f5-c8a5-7e7fa9a2db2b"
      },
      "source": [
        "total = int(input(\"Input the ammount of numbers to sum \"))\r\n",
        "sum = 0\r\n",
        "for i in range(0, total):\r\n",
        "  sum += int(input(\"input the value of the number \" + str(i+1) + \" integer \"))\r\n",
        "print(\"The total sum is \" + str(sum))"
      ],
      "execution_count": 4,
      "outputs": [
        {
          "output_type": "stream",
          "text": [
            "Input the ammount of numbers to sum 3\n",
            "input the value of the number 1integer 2\n",
            "input the value of the number 2integer 2\n",
            "input the value of the number 3integer 4\n",
            "The total sum is 8\n"
          ],
          "name": "stdout"
        }
      ]
    },
    {
      "cell_type": "markdown",
      "metadata": {
        "id": "VMtxdpGS7eb7"
      },
      "source": [
        "##Number sum python way"
      ]
    },
    {
      "cell_type": "code",
      "metadata": {
        "colab": {
          "base_uri": "https://localhost:8080/"
        },
        "id": "I7pNk9SE7jky",
        "outputId": "f98f94b7-ea16-4099-a2f4-426ebd4d7233"
      },
      "source": [
        "sum = 0\r\n",
        "for i in range(0, int(input(\"Input the ammount of numbers to sum \"))):\r\n",
        "  sum += int(input(\"input the value of the number \" + str(i + 1) + \" integer \"))\r\n",
        "print(\"The total sum is \" + str(sum))"
      ],
      "execution_count": 6,
      "outputs": [
        {
          "output_type": "stream",
          "text": [
            "Input the ammount of numbers to sum 5\n",
            "input the value of the number 1 integer 2\n",
            "input the value of the number 2 integer 3\n",
            "input the value of the number 3 integer 4\n",
            "input the value of the number 4 integer 6\n",
            "input the value of the number 5 integer 5\n",
            "The total sum is 20\n"
          ],
          "name": "stdout"
        }
      ]
    },
    {
      "cell_type": "markdown",
      "metadata": {
        "id": "O2b1ZGts_CyA"
      },
      "source": [
        "##Pair numbers peasant way"
      ]
    },
    {
      "cell_type": "code",
      "metadata": {
        "colab": {
          "base_uri": "https://localhost:8080/"
        },
        "id": "0BlaV_tO_Fy8",
        "outputId": "11ff6c70-d9d2-4230-9428-d4790a700071"
      },
      "source": [
        "start = int(input(\"Input the minimum number \"))\r\n",
        "end = int(input(\"Input the maximum number \"))\r\n",
        "for i in range(start, end):\r\n",
        "  if ((i % 2) == 0):\r\n",
        "    print(\"Pair number detected: \" + str(i))"
      ],
      "execution_count": 7,
      "outputs": [
        {
          "output_type": "stream",
          "text": [
            "Input the minimum number 2\n",
            "Input the maximum number 11\n",
            "Pair number detected: 2\n",
            "Pair number detected: 4\n",
            "Pair number detected: 6\n",
            "Pair number detected: 8\n",
            "Pair number detected: 10\n"
          ],
          "name": "stdout"
        }
      ]
    },
    {
      "cell_type": "markdown",
      "metadata": {
        "id": "6UqQzLwT_iQi"
      },
      "source": [
        "##Pair numbers python way"
      ]
    },
    {
      "cell_type": "code",
      "metadata": {
        "colab": {
          "base_uri": "https://localhost:8080/"
        },
        "id": "UgbXTXht_ocx",
        "outputId": "188f2814-0c79-4ec8-9e23-e2da05cc6092"
      },
      "source": [
        "for i in range(int(input(\"Input the minimum number \")), int(input(\"Input the maximum number \"))):\r\n",
        "    if( (i % 2) == 0 ): \r\n",
        "      print(\"Pair number detected: \" + str(i))"
      ],
      "execution_count": 8,
      "outputs": [
        {
          "output_type": "stream",
          "text": [
            "Input the minimum number 2\n",
            "Input the maximum number 11\n",
            "Pair number detected: 2\n",
            "Pair number detected: 4\n",
            "Pair number detected: 6\n",
            "Pair number detected: 8\n",
            "Pair number detected: 10\n"
          ],
          "name": "stdout"
        }
      ]
    },
    {
      "cell_type": "markdown",
      "metadata": {
        "id": "o0ADoz95AFmJ"
      },
      "source": [
        "##Numbers listing peasant way"
      ]
    },
    {
      "cell_type": "code",
      "metadata": {
        "colab": {
          "base_uri": "https://localhost:8080/"
        },
        "id": "we4-7bX4AQjZ",
        "outputId": "fc21d316-de59-425d-d3ba-c6eb04f5dcb1"
      },
      "source": [
        "range1 = list(range(1, 13))\r\n",
        "range2 = list(range(12, 0, -1))\r\n",
        "print(range1 + range2)"
      ],
      "execution_count": 10,
      "outputs": [
        {
          "output_type": "stream",
          "text": [
            "[1, 2, 3, 4, 5, 6, 7, 8, 9, 10, 11, 12, 12, 11, 10, 9, 8, 7, 6, 5, 4, 3, 2, 1]\n"
          ],
          "name": "stdout"
        }
      ]
    },
    {
      "cell_type": "markdown",
      "metadata": {
        "id": "af20V6O-HZnd"
      },
      "source": [
        "##Number listing python way"
      ]
    },
    {
      "cell_type": "code",
      "metadata": {
        "id": "RXJ2Y4tUHZJD"
      },
      "source": [
        "list1 = list(range(1, 13))\r\n",
        "print(list1 + list1[::-1])"
      ],
      "execution_count": null,
      "outputs": []
    },
    {
      "cell_type": "markdown",
      "metadata": {
        "id": "SNi2eURQHoeV"
      },
      "source": [
        "##Random numbers with imports peasant way"
      ]
    },
    {
      "cell_type": "code",
      "metadata": {
        "colab": {
          "base_uri": "https://localhost:8080/"
        },
        "id": "OGy9SN-fHwQ-",
        "outputId": "8a58334f-3073-400e-dabb-f2bdb68c262b"
      },
      "source": [
        "import random\r\n",
        "list1 = [random.randrange(10) for i in range(10)]\r\n",
        "print(list1)"
      ],
      "execution_count": 11,
      "outputs": [
        {
          "output_type": "stream",
          "text": [
            "[3, 4, 7, 9, 3, 1, 9, 8, 4, 7]\n"
          ],
          "name": "stdout"
        }
      ]
    },
    {
      "cell_type": "markdown",
      "metadata": {
        "id": "gTyDQaF-H6S8"
      },
      "source": [
        "##Random numbers with imports python way"
      ]
    },
    {
      "cell_type": "code",
      "metadata": {
        "colab": {
          "base_uri": "https://localhost:8080/"
        },
        "id": "OOoc4FSHH_FN",
        "outputId": "8f4c12c7-0845-4f57-b4cf-fee359d4028e"
      },
      "source": [
        "import random\r\n",
        "for i in range(10):\r\n",
        "  print(random.randrange(10))"
      ],
      "execution_count": 13,
      "outputs": [
        {
          "output_type": "stream",
          "text": [
            "1\n",
            "3\n",
            "8\n",
            "2\n",
            "9\n",
            "3\n",
            "6\n",
            "8\n",
            "8\n",
            "6\n"
          ],
          "name": "stdout"
        }
      ]
    },
    {
      "cell_type": "markdown",
      "metadata": {
        "id": "87-3FRejITSp"
      },
      "source": [
        "##Mix time baby\r\n",
        "Generate a list with the ages of a random number of inhabitants between 1000 and 50000 and the age is a random value between 1 and 100. It indicates the ammount of people and the percentage of those who are under 18 compared to those over 18"
      ]
    },
    {
      "cell_type": "code",
      "metadata": {
        "colab": {
          "base_uri": "https://localhost:8080/"
        },
        "id": "vtva5oyyIS8l",
        "outputId": "24545cc2-4693-45b6-9efd-1a3d1808e406"
      },
      "source": [
        "from random import randint\r\n",
        "people = [randint(1, 100) for a in range(randint(10000, 70000))]\r\n",
        "underaged = [age for age in people if age < 18]\r\n",
        "print(\"The total of people is \" + str(len(people)) + \", people uner 18 are the \" + str((len(underaged) / len(people)) * 100) \r\n",
        "+ \"% and those over 18 are \" + str(100 - ((len(underaged) / len(people))) * 100) + \"%\")"
      ],
      "execution_count": 19,
      "outputs": [
        {
          "output_type": "stream",
          "text": [
            "The total of people is 68999, people uner 18 are the 17.15677038797664% and those over 18 are 82.84322961202336%\n"
          ],
          "name": "stdout"
        }
      ]
    },
    {
      "cell_type": "markdown",
      "metadata": {
        "id": "pH1sx35lOD4S"
      },
      "source": [
        "6 candidates come fro the parties\r\n",
        "1.   Socio-democratic\r\n",
        "2.   Ultra-right\r\n",
        "3.   First the rich\r\n",
        "4.   Center\r\n",
        "5.   Inverted change\r\n",
        "6.   We want more poor people aliance\r\n",
        "The votes are generated randomly between 1 and 25000 and the winner party number is displayed"
      ]
    },
    {
      "cell_type": "code",
      "metadata": {
        "colab": {
          "base_uri": "https://localhost:8080/"
        },
        "id": "AXFQrY6ELBf7",
        "outputId": "28adfb1c-cfc9-42ee-8511-cb7b4c29cde5"
      },
      "source": [
        "import numpy as np\r\n",
        "from random import randint\r\n",
        "votes = np.array([[i+1, randint(1, 20000)] for i in range(6)])\r\n",
        "winner = np.where(votes[:,1] == votes[:,1].max())\r\n",
        "print(\"The votes for each party in order are: \\n\" + str(votes) + \"\\n The winner's number and ammount of votes is \" + str(votes[winner[0]]))"
      ],
      "execution_count": 27,
      "outputs": [
        {
          "output_type": "stream",
          "text": [
            "The votes for each party in order are: \n",
            "[[    1  3295]\n",
            " [    2  8227]\n",
            " [    3 15653]\n",
            " [    4  3021]\n",
            " [    5  2442]\n",
            " [    6  1221]]\n",
            " The winner is number [[    3 15653]]\n"
          ],
          "name": "stdout"
        }
      ]
    },
    {
      "cell_type": "markdown",
      "metadata": {
        "id": "lYOzucYiTAw4"
      },
      "source": [
        "6 candidates come fro the parties\r\n",
        "1.   Socio-democratic\r\n",
        "2.   Ultra-right\r\n",
        "3.   First the rich\r\n",
        "4.   Center\r\n",
        "5.   Inverted change\r\n",
        "6.   We want more poor people aliance\r\n",
        "The votes are generated randomly between 1 and 4500 for each of the 123 departments and the winner party number is displayed"
      ]
    },
    {
      "cell_type": "code",
      "metadata": {
        "colab": {
          "base_uri": "https://localhost:8080/"
        },
        "id": "8qArBsUATnih",
        "outputId": "eb9a2a9b-6a1a-45f3-c77f-26d997f4e8f8"
      },
      "source": [
        "import numpy as np\r\n",
        "from random import randint\r\n",
        "votes = np.random.randint(3000, size=(123, 6))\r\n",
        "total = np.array([[i+1, votes[:,i].sum()] for i in range(len(votes[0]))])\r\n",
        "winner = np.where(total == total[:, 1].max())\r\n",
        "print(\"The votes for each party in order are: \\n\" + str(total) + \"\\n The winner's number and ammount of votes is \" + str(total[winner[0]]))"
      ],
      "execution_count": 32,
      "outputs": [
        {
          "output_type": "stream",
          "text": [
            "The votes for each party in order are: \n",
            "[[     1 191368]\n",
            " [     2 190371]\n",
            " [     3 181188]\n",
            " [     4 183451]\n",
            " [     5 193129]\n",
            " [     6 188910]]\n",
            " The winner's number and ammount of votes is [[     5 193129]]\n"
          ],
          "name": "stdout"
        }
      ]
    },
    {
      "cell_type": "markdown",
      "metadata": {
        "id": "pnd35TTMXZns"
      },
      "source": [
        "There are 5 vehicles on a race, \r\n",
        "Renault, Ferrari, Mercedez, Ford, Red bull\r\n",
        "The race has 4 loops where the minimum time is 8.2 seconds and the max is 10 seconds. The winner will be shown at the end, as well as the time of every car for every loop as a random value.\r\n"
      ]
    },
    {
      "cell_type": "code",
      "metadata": {
        "colab": {
          "base_uri": "https://localhost:8080/"
        },
        "id": "7BrEBSujaMO5",
        "outputId": "78b46cf8-0366-4869-e6eb-dcec5701a4c1"
      },
      "source": [
        "import numpy as np\r\n",
        "matrix = np.random.uniform(8.2, 10, size=(4, 5))\r\n",
        "total = np.array([[i+1,matrix[:,i].sum()] for i in range(len(matrix[0]))])\r\n",
        "winner = np.where(matrix == matrix[:,1].min())\r\n",
        "print(\"The results in order are: \\n\" + str(matrix) + \"\\nThe winner car and it's total time is \" + str(total[winner[0]]))"
      ],
      "execution_count": 34,
      "outputs": [
        {
          "output_type": "stream",
          "text": [
            "The results in order are: \n",
            "[[9.20159568 8.96451112 9.52477311 8.21477553 8.78585517]\n",
            " [8.63006197 8.68553012 8.36907307 8.32383593 8.20307106]\n",
            " [9.48098812 9.86277249 8.66716819 8.50544642 9.28280771]\n",
            " [9.07070133 8.90799103 8.65528817 8.83189834 8.55357515]]\n",
            "The winner car is [[ 2.         36.42080475]]\n"
          ],
          "name": "stdout"
        }
      ]
    },
    {
      "cell_type": "markdown",
      "metadata": {
        "id": "NPPUivanf3Sp"
      },
      "source": [
        "##Graphics"
      ]
    },
    {
      "cell_type": "code",
      "metadata": {
        "colab": {
          "base_uri": "https://localhost:8080/",
          "height": 265
        },
        "id": "mt-pk5LAgNF0",
        "outputId": "b87a681c-8e0a-494b-b940-49a0eedcdcb6"
      },
      "source": [
        "import matplotlib.pyplot as plt\r\n",
        "plt.plot([20, 40, 30, 10])\r\n",
        "plt.ylabel(\"Basic graphics\")\r\n",
        "plt.show()"
      ],
      "execution_count": 49,
      "outputs": [
        {
          "output_type": "display_data",
          "data": {
            "image/png": "[encoded data removed]",
            "text/plain": [
              "<Figure size 432x288 with 1 Axes>"
            ]
          },
          "metadata": {
            "tags": [],
            "needs_background": "light"
          }
        }
      ]
    },
    {
      "cell_type": "code",
      "metadata": {
        "colab": {
          "base_uri": "https://localhost:8080/",
          "height": 265
        },
        "id": "ykQOS-bGgwxN",
        "outputId": "56caf594-734a-4228-d6f2-0570703cd1be"
      },
      "source": [
        "import matplotlib.pyplot as plt\r\n",
        "import random\r\n",
        "aList = [ random.randrange(10) for i in range(10)]\r\n",
        "plt.plot(aList, \"bo\")\r\n",
        "plt.ylabel(\"Random numbers from 0 to 10 \")\r\n",
        "plt.show()"
      ],
      "execution_count": 53,
      "outputs": [
        {
          "output_type": "display_data",
          "data": {
            "image/png": "[encoded data removed]",
            "text/plain": [
              "<Figure size 432x288 with 1 Axes>"
            ]
          },
          "metadata": {
            "tags": [],
            "needs_background": "light"
          }
        }
      ]
    },
    {
      "cell_type": "markdown",
      "metadata": {
        "id": "RjG6YOhujYo_"
      },
      "source": [
        "#Graphics for elections"
      ]
    },
    {
      "cell_type": "code",
      "metadata": {
        "colab": {
          "base_uri": "https://localhost:8080/",
          "height": 442
        },
        "id": "6alzWF9HjbR1",
        "outputId": "de04aee4-14c8-41f9-b2d6-3bf08761bc09"
      },
      "source": [
        "import numpy as np\r\n",
        "from random import randint\r\n",
        "import matplotlib.pyplot as plt\r\n",
        "from random import randint\r\n",
        "votes = np.array([[i+1, randint(1, 20000)] for i in range(6)])\r\n",
        "winner = np.where(votes == votes[:, 1].max())\r\n",
        "aFigure = plt.figure(\"Bar graphic\")\r\n",
        "axis = aFigure.add_subplot(1,1,1) \r\n",
        "names = [\"Socio-democratic\", \"Ultra-right\", \"First the rich\", \"Center\", \"Inverted change\", \"We want more poor people aliance\"]\r\n",
        "axis.bar(range(len(votes)),votes[:,1])\r\n",
        "axis.set_xticks(range(len(votes[:,1])))\r\n",
        "axis.set_xticklabels(names,rotation = \"vertical\")\r\n",
        "plt.ylabel(\"Total votes\");plt.xlabel(\"Parties\")\r\n",
        "plt.show()"
      ],
      "execution_count": 61,
      "outputs": [
        {
          "output_type": "display_data",
          "data": {
            "image/png": "[encoded data removed]",
            "text/plain": [
              "<Figure size 432x288 with 1 Axes>"
            ]
          },
          "metadata": {
            "tags": [],
            "needs_background": "light"
          }
        }
      ]
    },
    {
      "cell_type": "markdown",
      "metadata": {
        "id": "6ctC16iWpMQQ"
      },
      "source": [
        "#Graphics for race"
      ]
    },
    {
      "cell_type": "code",
      "metadata": {
        "colab": {
          "base_uri": "https://localhost:8080/",
          "height": 279
        },
        "id": "DaQcJdyKpZ33",
        "outputId": "6685b7da-fcc2-4fc2-cab7-4cc48a69259e"
      },
      "source": [
        "import numpy as np #other imports not nesecary, as they loaded up there already\r\n",
        "matrix = np.random.uniform(8.2, 10, size=(4, 5))\r\n",
        "total = np.array([[i+1,matrix[:,i].sum()] for i in range(len(matrix[0]))])\r\n",
        "winner = np.where(matrix == matrix[:,1].min())\r\n",
        "x = total[:,1]\r\n",
        "y = total[:,0]\r\n",
        "aFigure = plt.figure()\r\n",
        "aFigure.add_subplot(111)\r\n",
        "plt.xlabel('Cars')\r\n",
        "plt.ylabel('Total time')\r\n",
        "plt.scatter(y, x, c=x)\r\n",
        "plt.show()"
      ],
      "execution_count": 65,
      "outputs": [
        {
          "output_type": "display_data",
          "data": {
            "image/png": "[encoded data removed]",
            "text/plain": [
              "<Figure size 432x288 with 1 Axes>"
            ]
          },
          "metadata": {
            "tags": [],
            "needs_background": "light"
          }
        }
      ]
    }
  ]
}