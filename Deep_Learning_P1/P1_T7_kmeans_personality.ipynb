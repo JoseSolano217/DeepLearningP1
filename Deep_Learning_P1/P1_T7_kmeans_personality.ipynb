{
  "nbformat": 4,
  "nbformat_minor": 0,
  "metadata": {
    "colab": {
      "name": "P1_T7_kmeans_personality.ipynb",
      "provenance": []
    },
    "kernelspec": {
      "name": "python3",
      "display_name": "Python 3"
    }
  },
  "cells": [
    {
      "cell_type": "code",
      "metadata": {
        "id": "3LEt8Wy8jZTg"
      },
      "source": [
        "import pandas as pd\r\n",
        "from sklearn import preprocessing\r\n",
        "import numpy as np\r\n",
        "import random as rd\r\n",
        "from sklearn.cluster import KMeans\r\n",
        "from sklearn.metrics import pairwise_distances_argmin_min\r\n",
        "import matplotlib.pyplot as plt\r\n",
        "import seaborn as sb\r\n",
        "from mpl_toolkits.mplot3d import Axes3D"
      ],
      "execution_count": null,
      "outputs": []
    },
    {
      "cell_type": "code",
      "metadata": {
        "colab": {
          "base_uri": "https://localhost:8080/",
          "height": 206
        },
        "id": "jr6Yte2Ijfkk",
        "outputId": "ba317283-d511-4e65-d4eb-4a6b09ff845f"
      },
      "source": [
        "df_personality = pd.read_csv(\"https://raw.githubusercontent.com/luisFernandoCastellanosG/Machine_learning/master/Databasets/k-means-psicologia.csv\")\r\n",
        "df_personality.head()"
      ],
      "execution_count": null,
      "outputs": [
        {
          "output_type": "execute_result",
          "data": {
            "text/html": [
              "<div>\n",
              "<style scoped>\n",
              "    .dataframe tbody tr th:only-of-type {\n",
              "        vertical-align: middle;\n",
              "    }\n",
              "\n",
              "    .dataframe tbody tr th {\n",
              "        vertical-align: top;\n",
              "    }\n",
              "\n",
              "    .dataframe thead th {\n",
              "        text-align: right;\n",
              "    }\n",
              "</style>\n",
              "<table border=\"1\" class=\"dataframe\">\n",
              "  <thead>\n",
              "    <tr style=\"text-align: right;\">\n",
              "      <th></th>\n",
              "      <th>usuario</th>\n",
              "      <th>op</th>\n",
              "      <th>co</th>\n",
              "      <th>ex</th>\n",
              "      <th>ag</th>\n",
              "      <th>ne</th>\n",
              "      <th>wordcount</th>\n",
              "      <th>categoria</th>\n",
              "    </tr>\n",
              "  </thead>\n",
              "  <tbody>\n",
              "    <tr>\n",
              "      <th>0</th>\n",
              "      <td>3gerardpique</td>\n",
              "      <td>34.297953</td>\n",
              "      <td>28.148819</td>\n",
              "      <td>41.948819</td>\n",
              "      <td>29.370315</td>\n",
              "      <td>9.841575</td>\n",
              "      <td>37.0945</td>\n",
              "      <td>7</td>\n",
              "    </tr>\n",
              "    <tr>\n",
              "      <th>1</th>\n",
              "      <td>aguerosergiokun</td>\n",
              "      <td>44.986842</td>\n",
              "      <td>20.525865</td>\n",
              "      <td>37.938947</td>\n",
              "      <td>24.279098</td>\n",
              "      <td>10.362406</td>\n",
              "      <td>78.7970</td>\n",
              "      <td>7</td>\n",
              "    </tr>\n",
              "    <tr>\n",
              "      <th>2</th>\n",
              "      <td>albertochicote</td>\n",
              "      <td>41.733854</td>\n",
              "      <td>13.745417</td>\n",
              "      <td>38.999896</td>\n",
              "      <td>34.645521</td>\n",
              "      <td>8.836979</td>\n",
              "      <td>49.2604</td>\n",
              "      <td>4</td>\n",
              "    </tr>\n",
              "    <tr>\n",
              "      <th>3</th>\n",
              "      <td>AlejandroSanz</td>\n",
              "      <td>40.377154</td>\n",
              "      <td>15.377462</td>\n",
              "      <td>52.337538</td>\n",
              "      <td>31.082154</td>\n",
              "      <td>5.032231</td>\n",
              "      <td>80.4538</td>\n",
              "      <td>2</td>\n",
              "    </tr>\n",
              "    <tr>\n",
              "      <th>4</th>\n",
              "      <td>alfredocasero1</td>\n",
              "      <td>36.664677</td>\n",
              "      <td>19.642258</td>\n",
              "      <td>48.530806</td>\n",
              "      <td>31.138871</td>\n",
              "      <td>7.305968</td>\n",
              "      <td>47.0645</td>\n",
              "      <td>4</td>\n",
              "    </tr>\n",
              "  </tbody>\n",
              "</table>\n",
              "</div>"
            ],
            "text/plain": [
              "           usuario         op         co  ...         ne  wordcount  categoria\n",
              "0     3gerardpique  34.297953  28.148819  ...   9.841575    37.0945          7\n",
              "1  aguerosergiokun  44.986842  20.525865  ...  10.362406    78.7970          7\n",
              "2   albertochicote  41.733854  13.745417  ...   8.836979    49.2604          4\n",
              "3    AlejandroSanz  40.377154  15.377462  ...   5.032231    80.4538          2\n",
              "4   alfredocasero1  36.664677  19.642258  ...   7.305968    47.0645          4\n",
              "\n",
              "[5 rows x 8 columns]"
            ]
          },
          "metadata": {
            "tags": []
          },
          "execution_count": 2
        }
      ]
    },
    {
      "cell_type": "code",
      "metadata": {
        "colab": {
          "base_uri": "https://localhost:8080/"
        },
        "id": "gi88gLnIjoE0",
        "outputId": "d49a0422-c209-4d70-9e06-a48752c34c93"
      },
      "source": [
        "df_personality.describe()\r\n",
        "df_personality.isnull().sum()"
      ],
      "execution_count": null,
      "outputs": [
        {
          "output_type": "execute_result",
          "data": {
            "text/plain": [
              "usuario      0\n",
              "op           0\n",
              "co           0\n",
              "ex           0\n",
              "ag           0\n",
              "ne           0\n",
              "wordcount    0\n",
              "categoria    0\n",
              "dtype: int64"
            ]
          },
          "metadata": {
            "tags": []
          },
          "execution_count": 3
        }
      ]
    },
    {
      "cell_type": "code",
      "metadata": {
        "colab": {
          "base_uri": "https://localhost:8080/",
          "height": 279
        },
        "id": "4egb7cZhjqZ7",
        "outputId": "7da91036-45c7-4b80-fa7a-2dfd309d2de8"
      },
      "source": [
        "X = df_personality[[\"ex\", \"categoria\"]]\r\n",
        "plt.scatter(X[\"ex\"],X[\"categoria\"],c='black')\r\n",
        "plt.xlabel('Extroversion')\r\n",
        "plt.ylabel('Cathegory')\r\n",
        "plt.show()"
      ],
      "execution_count": null,
      "outputs": [
        {
          "output_type": "display_data",
          "data": {
            "image/png": "[encoded data removed]",
            "text/plain": [
              "<Figure size 432x288 with 1 Axes>"
            ]
          },
          "metadata": {
            "tags": [],
            "needs_background": "light"
          }
        }
      ]
    },
    {
      "cell_type": "code",
      "metadata": {
        "colab": {
          "base_uri": "https://localhost:8080/",
          "height": 295
        },
        "id": "itBR4ffojtPz",
        "outputId": "d27ce431-b5c3-448c-9c7e-65c91a8259d7"
      },
      "source": [
        "wcss = []\r\n",
        "for i in range(1, 30):\r\n",
        "    kmeans = KMeans(n_clusters=i, init='k-means++', max_iter=300, n_init=10, random_state=0)\r\n",
        "    kmeans.fit(X)\r\n",
        "    wcss.append(kmeans.inertia_)\r\n",
        "plt.plot(range(1, 30), wcss)\r\n",
        "plt.title('Metodo de codo')\r\n",
        "plt.xlabel('Numero de clusters')\r\n",
        "plt.ylabel('WCSS')\r\n",
        "plt.show()"
      ],
      "execution_count": null,
      "outputs": [
        {
          "output_type": "display_data",
          "data": {
            "image/png": "[encoded data removed]",
            "text/plain": [
              "<Figure size 432x288 with 1 Axes>"
            ]
          },
          "metadata": {
            "tags": [],
            "needs_background": "light"
          }
        }
      ]
    },
    {
      "cell_type": "code",
      "metadata": {
        "colab": {
          "base_uri": "https://localhost:8080/"
        },
        "id": "sTmlsgo7jv11",
        "outputId": "4c0b01cf-88ee-4b57-e50c-5500790dfeb1"
      },
      "source": [
        "kmeans = KMeans(n_clusters=5).fit(X)\r\n",
        "centroids = kmeans.cluster_centers_\r\n",
        "labels = kmeans.predict(X)\r\n",
        "print(centroids)\r\n",
        "print(labels)"
      ],
      "execution_count": null,
      "outputs": [
        {
          "output_type": "stream",
          "text": [
            "[[43.61307017  2.34285714]\n",
            " [35.97673572  3.        ]\n",
            " [27.87274147  3.4       ]\n",
            " [42.73247675  7.46875   ]\n",
            " [52.20733605  4.10526316]]\n",
            "[3 1 1 4 4 3 3 4 3 1 0 1 1 1 3 0 0 3 0 0 4 0 2 3 0 1 3 0 0 1 3 1 0 3 4 4 4\n",
            " 4 0 1 4 4 3 1 1 2 3 1 0 4 0 3 3 2 2 1 2 0 2 1 1 1 1 1 3 3 2 2 1 4 3 1 3 0\n",
            " 3 1 3 4 4 3 0 0 2 0 1 3 0 0 1 0 1 1 1 0 0 3 3 0 0 1 1 1 0 4 2 1 0 3 3 1 3\n",
            " 3 3 4 4 0 2 2 0 3 1 0 4 1 1 2 2 0 0 1 0 0 1 3 1 3 4 2 1 0]\n"
          ],
          "name": "stdout"
        }
      ]
    },
    {
      "cell_type": "code",
      "metadata": {
        "id": "WTJcGy39jxyl"
      },
      "source": [
        "colores=['red','cyan','green','yellow','purple']\r\n",
        "asignar=[]\r\n",
        "for row in labels:\r\n",
        "    asignar.append(colores[row])"
      ],
      "execution_count": null,
      "outputs": []
    },
    {
      "cell_type": "code",
      "metadata": {
        "colab": {
          "base_uri": "https://localhost:8080/",
          "height": 283
        },
        "id": "FHkiVLQ3Wv8g",
        "outputId": "fcd1e35d-5c98-447e-82ce-2370c44ebee8"
      },
      "source": [
        "print(centroids[:, 0])\r\n",
        "# mostramos grupos según Openess y Extraversion \r\n",
        "f1 = df_personality['ex'].values\r\n",
        "f2 = df_personality['op'].values\r\n",
        "plt.scatter(f1, f2, c=asignar)\r\n",
        "plt.scatter(centroids[:, 1], centroids[:, 0], marker='*', c='black', s=100)\r\n",
        "plt.show()"
      ],
      "execution_count": null,
      "outputs": [
        {
          "output_type": "stream",
          "text": [
            "[43.61307017 35.97673572 27.87274147 42.73247675 52.20733605]\n"
          ],
          "name": "stdout"
        },
        {
          "output_type": "display_data",
          "data": {
            "image/png": "[encoded data removed]",
            "text/plain": [
              "<Figure size 432x288 with 1 Axes>"
            ]
          },
          "metadata": {
            "tags": [],
            "needs_background": "light"
          }
        }
      ]
    }
  ]
}