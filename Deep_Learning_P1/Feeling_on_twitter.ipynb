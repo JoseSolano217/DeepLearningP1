{
  "nbformat": 4,
  "nbformat_minor": 0,
  "metadata": {
    "colab": {
      "name": "Feeling_on_twitter.ipynb",
      "provenance": []
    },
    "kernelspec": {
      "name": "python3",
      "display_name": "Python 3"
    },
    "language_info": {
      "name": "python"
    }
  },
  "cells": [
    {
      "cell_type": "markdown",
      "metadata": {
        "id": "gBTrI84jPL1z"
      },
      "source": [
        "#Loading"
      ]
    },
    {
      "cell_type": "markdown",
      "metadata": {
        "id": "9CiV2tfM1yRx"
      },
      "source": [
        "##Pyprind"
      ]
    },
    {
      "cell_type": "code",
      "metadata": {
        "colab": {
          "base_uri": "https://localhost:8080/"
        },
        "id": "LbmU9VDaVwvJ",
        "outputId": "cd1d87ca-820e-445c-8b30-e1b9dbdcf3d6"
      },
      "source": [
        "!pip install scikit-learn==0.18.2\n",
        "!pip install pyprind\n",
        "!pip install scipy"
      ],
      "execution_count": null,
      "outputs": [
        {
          "output_type": "stream",
          "text": [
            "Collecting scikit-learn==0.18.2\n",
            "  Using cached https://files.pythonhosted.org/packages/26/c2/21c612f3a1b1ba97b7b4bbd1fcdc59b475a09e25efad13fec4565ab9d563/scikit-learn-0.18.2.tar.gz\n",
            "Building wheels for collected packages: scikit-learn\n",
            "  Building wheel for scikit-learn (setup.py) ... \u001b[?25lerror\n",
            "\u001b[31m  ERROR: Failed building wheel for scikit-learn\u001b[0m\n",
            "\u001b[?25h  Running setup.py clean for scikit-learn\n",
            "Failed to build scikit-learn\n",
            "\u001b[31mERROR: yellowbrick 0.9.1 has requirement scikit-learn>=0.20, but you'll have scikit-learn 0.18.2 which is incompatible.\u001b[0m\n",
            "\u001b[31mERROR: imbalanced-learn 0.4.3 has requirement scikit-learn>=0.20, but you'll have scikit-learn 0.18.2 which is incompatible.\u001b[0m\n",
            "\u001b[31mERROR: fancyimpute 0.4.3 has requirement scikit-learn>=0.19.1, but you'll have scikit-learn 0.18.2 which is incompatible.\u001b[0m\n",
            "Installing collected packages: scikit-learn\n",
            "  Found existing installation: scikit-learn 0.22.2.post1\n",
            "    Uninstalling scikit-learn-0.22.2.post1:\n",
            "      Successfully uninstalled scikit-learn-0.22.2.post1\n",
            "    Running setup.py install for scikit-learn ... \u001b[?25l\u001b[?25herror\n",
            "  Rolling back uninstall of scikit-learn\n",
            "  Moving to /usr/local/lib/python3.7/dist-packages/scikit_learn-0.22.2.post1.dist-info/\n",
            "   from /usr/local/lib/python3.7/dist-packages/~cikit_learn-0.22.2.post1.dist-info\n",
            "  Moving to /usr/local/lib/python3.7/dist-packages/sklearn/\n",
            "   from /usr/local/lib/python3.7/dist-packages/~klearn\n",
            "\u001b[31mERROR: Command errored out with exit status 1: /usr/bin/python3 -u -c 'import sys, setuptools, tokenize; sys.argv[0] = '\"'\"'/tmp/pip-install-b7w3fu71/scikit-learn/setup.py'\"'\"'; __file__='\"'\"'/tmp/pip-install-b7w3fu71/scikit-learn/setup.py'\"'\"';f=getattr(tokenize, '\"'\"'open'\"'\"', open)(__file__);code=f.read().replace('\"'\"'\\r\\n'\"'\"', '\"'\"'\\n'\"'\"');f.close();exec(compile(code, __file__, '\"'\"'exec'\"'\"'))' install --record /tmp/pip-record-3tqq9xgl/install-record.txt --single-version-externally-managed --compile Check the logs for full command output.\u001b[0m\n",
            "Requirement already satisfied: pyprind in /usr/local/lib/python3.7/dist-packages (2.11.3)\n",
            "Requirement already satisfied: scipy in /usr/local/lib/python3.7/dist-packages (1.4.1)\n",
            "Requirement already satisfied: numpy>=1.13.3 in /usr/local/lib/python3.7/dist-packages (from scipy) (1.19.5)\n"
          ],
          "name": "stdout"
        }
      ]
    },
    {
      "cell_type": "markdown",
      "metadata": {
        "id": "mOYB_l1Pzf2Q"
      },
      "source": [
        "##Libraries"
      ]
    },
    {
      "cell_type": "code",
      "metadata": {
        "id": "31s48wSVD60E"
      },
      "source": [
        "from google.colab import drive\n",
        "import os   \n",
        "import sys        \n",
        "import tarfile   \n",
        "import time         \n",
        "import re       \n",
        "import pyprind\n",
        "import numpy as np\n",
        "import tweepy as tw\n",
        "import pandas as pd\n",
        "import pickle\n",
        "import nltk\n",
        "import csv\n",
        "import matplotlib.pyplot as plt\n",
        "\n",
        "from sklearn.feature_extraction.text import HashingVectorizer\n",
        "from sklearn.feature_extraction.text import CountVectorizer\n",
        "from sklearn.feature_extraction.text import TfidfTransformer\n",
        "from sklearn.feature_extraction.text import TfidfVectorizer\n",
        "from sklearn.feature_extraction.text import TfidfVectorizer   \n",
        "from sklearn.pipeline import Pipeline                \n",
        "from sklearn.linear_model import LogisticRegression \n",
        "from sklearn.linear_model import SGDClassifier\n",
        "from sklearn.model_selection import GridSearchCV              \n",
        "from sklearn.model_selection import train_test_split\n",
        "\n",
        "from os import scandir\n",
        "\n",
        "#from vectorizer import vect\n",
        "\n",
        "from nltk.corpus import stopwords\n",
        "from nltk.stem.porter import PorterStemmer\n",
        "import xml.etree.ElementTree as etree\n",
        "from lxml import etree\n",
        "from xml.dom import minidom\n",
        "from nltk import TweetTokenizer\n",
        "from nltk.stem import SnowballStemmer \n",
        "\n"
      ],
      "execution_count": null,
      "outputs": []
    },
    {
      "cell_type": "code",
      "metadata": {
        "id": "erNyJe2YnP0K"
      },
      "source": [
        "basepath = 'aclImdb'\n",
        "source = 'http://ai.stanford.edu/~amaas/data/sentiment/aclImdb_v1.tar.gz'\n",
        "target = 'aclImdb_v1.tar.gz'"
      ],
      "execution_count": null,
      "outputs": []
    },
    {
      "cell_type": "code",
      "metadata": {
        "id": "h044TxkewMJN"
      },
      "source": [
        "#Do not use.\n",
        "#drive.mount('/content/drive')"
      ],
      "execution_count": null,
      "outputs": []
    },
    {
      "cell_type": "markdown",
      "metadata": {
        "id": "hl-u2E7lPUpB"
      },
      "source": [
        "#Ready the twitter"
      ]
    },
    {
      "cell_type": "code",
      "metadata": {
        "id": "uG09jVr6EOSF"
      },
      "source": [
        "consumer_key = '7qEpJx4udZrB3cJFSmcoEuhZO'\n",
        "consumer_secret = 'zVh9ftwfXUJfY4RmB1cCykzxsrhbEYeVzfBUxvDedpXQ8liWGL'\n",
        "bearer = 'AAAAAAAAAAAAAAAAAAAAAEfrPAEAAAAAvwPVyFgNneWzv2BGQY0cKhAXVYw%3DNNcdt3sw6qZlVBXmur7qYMjU8M1ITCT6uGCdEqDzNtBpJUeJ9o'\n",
        "access_token = '1387915262939303937-3xhcmOirF3pZgD61PvHZcgO0ny7SvD'\n",
        "access_token_secret = 'nyssnnk4R03tKoLxHdMDW841o210G0hrRUTaH6UXlnHXQ'"
      ],
      "execution_count": null,
      "outputs": []
    },
    {
      "cell_type": "code",
      "metadata": {
        "id": "PmQ-_qh1sPpH"
      },
      "source": [
        "auth = tw.OAuthHandler(consumer_key, consumer_secret)\n",
        "auth.set_access_token(access_token, access_token_secret)"
      ],
      "execution_count": null,
      "outputs": []
    },
    {
      "cell_type": "code",
      "metadata": {
        "id": "pqXe0gj6vHyg"
      },
      "source": [
        "api = tw.API(auth, wait_on_rate_limit=True)"
      ],
      "execution_count": null,
      "outputs": []
    },
    {
      "cell_type": "markdown",
      "metadata": {
        "id": "EQW6tw0sPaAc"
      },
      "source": [
        "#Get data from tweets"
      ]
    },
    {
      "cell_type": "code",
      "metadata": {
        "id": "xte05rXbItz4"
      },
      "source": [
        "search_words = \"#CatShark\"\n",
        "data_since = \"2021-05-05\""
      ],
      "execution_count": null,
      "outputs": []
    },
    {
      "cell_type": "code",
      "metadata": {
        "id": "kgvkKuyLGd_R"
      },
      "source": [
        "#tweets = tw.Cursor(api.search, q= search_words, lang = \"en\", since = data_since).items(4000)\n",
        "#tweets"
      ],
      "execution_count": null,
      "outputs": []
    },
    {
      "cell_type": "code",
      "metadata": {
        "id": "1KzyOkSnNjRI"
      },
      "source": [
        "#data_frame = [[tweet.user.screen_name, tweet.user.location, tweet.text] for tweet in tweets]\n",
        "#tw_df = pd.DataFrame(data = data_frame, columns= [\"User\", \"Location\", \"Text\"])"
      ],
      "execution_count": null,
      "outputs": []
    },
    {
      "cell_type": "code",
      "metadata": {
        "id": "L8rlL5gnRoTr"
      },
      "source": [
        "#tw_df.head(10)"
      ],
      "execution_count": null,
      "outputs": []
    },
    {
      "cell_type": "markdown",
      "metadata": {
        "id": "eUgUpIMqPnKe"
      },
      "source": [
        "#Save the data in Drive"
      ]
    },
    {
      "cell_type": "code",
      "metadata": {
        "id": "vrkXBPw6SSQQ"
      },
      "source": [
        "#tw_df.to_csv(\"/content/drive/MyDrive/TweeterDataCSV/gura_unfiltered.csv\", index= False, encoding=\"utf-8\")"
      ],
      "execution_count": null,
      "outputs": []
    },
    {
      "cell_type": "code",
      "metadata": {
        "id": "IyhRBK8sNAnf"
      },
      "source": [
        "vector= CountVectorizer(stop_words=None)"
      ],
      "execution_count": null,
      "outputs": []
    },
    {
      "cell_type": "markdown",
      "metadata": {
        "id": "iKasEQzjPsV5"
      },
      "source": [
        "#Normalize functions"
      ]
    },
    {
      "cell_type": "code",
      "metadata": {
        "id": "eFtnwulAJ8C0"
      },
      "source": [
        "def normalize_laughs(message):\n",
        "  message = re.sub(r'\\b(?=\\w*[j])[aeiouj]{4,}\\b', LAUGH, message, flags=re.IGNORECASE)\n",
        "  message = re.sub(r'\\b(?=\\w*[k])[aeiouk]{4,}\\b', LAUGH, message, flags=re.IGNORECASE)\n",
        "  message = re.sub(r'\\b(?=\\w*[h])[aeiouk]{4,}\\b', LAUGH, message, flags=re.IGNORECASE)\n",
        "  message = re.sub(r'\\b(juas+|lol)\\b', LAUGH, message, flags=re.IGNORECASE)\n",
        "  return message"
      ],
      "execution_count": null,
      "outputs": []
    },
    {
      "cell_type": "code",
      "metadata": {
        "id": "i0frJJwhLmoY"
      },
      "source": [
        "def process_twitter_features(message, twitter_features):\n",
        "\n",
        "  message = re.sub(r'[\\.\\,]http','. http', message, flags=re.IGNORECASE)\n",
        "  message = re.sub(r'[\\.\\,]#', '. #', message)\n",
        "  message = re.sub(r'[\\.\\,]@', '. @', message)\n",
        "\n",
        "  if twitter_features == REMOVE:\n",
        "    # eliminar menciones, hashtags y URL\n",
        "    message = re.sub(r'((?<=\\s)|(?<=\\A))(@|#)\\S+', '', message)\n",
        "    message = re.sub(r'\\b(https?:\\S+)\\b', '', message, flags=re.IGNORECASE)\n",
        "  elif twitter_features == NORMALIZE:\n",
        "    # cuando sea necesario se normalizaran las menciones, hashtags y URL\n",
        "    message = re.sub(r'((?<=\\s)|(?<=\\A))@\\S+', MENTION, message)\n",
        "    message = re.sub(r'((?<=\\s)|(?<=\\A))#\\S+', HASHTAG, message)\n",
        "    message = re.sub(r'\\b(https?:\\S+)\\b', URL, message, flags=re.IGNORECASE)\n",
        "\n",
        "  return message"
      ],
      "execution_count": null,
      "outputs": []
    },
    {
      "cell_type": "code",
      "metadata": {
        "id": "nu8KZo_OKfTQ"
      },
      "source": [
        "def preprocess(message):\n",
        "  message = message.lower()\n",
        "        \n",
        "  message = re.sub(r'(\\d+|\\n|\\brt\\b)', '', message)\n",
        "        \n",
        "  for s,t in DIACRITICAL_VOWELS:\n",
        "    message = re.sub(r'{0}'.format(s), t, message)\n",
        "        \n",
        "  message = re.sub(r'(.)\\1{2,}', r'\\1\\1', message)\n",
        "       \n",
        "  message = normalize_laughs(message)\n",
        "        \n",
        "  for s,t in SLANG:\n",
        "    message = re.sub(r'\\b{0}\\b'.format(s), t, message)\n",
        "\n",
        "  message = process_twitter_features(message, _twitter_features)\n",
        "\n",
        "  if _stemming:\n",
        "    message = ' '.join(_stemmer.stem(w) for w in _tokenizer(message))\n",
        "\n",
        "  return message"
      ],
      "execution_count": null,
      "outputs": []
    },
    {
      "cell_type": "markdown",
      "metadata": {
        "id": "Gslvx8mN8c3J"
      },
      "source": [
        "#Obtain corpus to train"
      ]
    },
    {
      "cell_type": "markdown",
      "metadata": {
        "id": "102it8TmO3k5"
      },
      "source": [
        "##List files"
      ]
    },
    {
      "cell_type": "code",
      "metadata": {
        "id": "pEOtZA5u8cLe"
      },
      "source": [
        "def files_of_path(path): \n",
        "    return [obj.name for obj in os.scandir(path) if obj.is_file()]\n",
        "    \n",
        "files= files_of_path(\"/content/drive/MyDrive/Tass_2017\")\n",
        "for file in files:\n",
        "    print(file)"
      ],
      "execution_count": null,
      "outputs": []
    },
    {
      "cell_type": "markdown",
      "metadata": {
        "id": "6zuuFRa0O5oo"
      },
      "source": [
        "##File to CSV"
      ]
    },
    {
      "cell_type": "code",
      "metadata": {
        "id": "g86PtL4hOB2Q"
      },
      "source": [
        "def list_to_csv(data, filename):\n",
        "  with open(filename, 'w', encoding='utf-8') as csvfile:\n",
        "    writer = csv.writer(csvfile, delimiter=',', lineterminator='\\n', quoting=csv.QUOTE_NONNUMERIC)\n",
        "    writer.writerows(data)"
      ],
      "execution_count": null,
      "outputs": []
    },
    {
      "cell_type": "markdown",
      "metadata": {
        "id": "JJqlZLiwPHWB"
      },
      "source": [
        "##CSV to list"
      ]
    },
    {
      "cell_type": "code",
      "metadata": {
        "id": "1oboAhZlOSCS"
      },
      "source": [
        "def csv_to_lists(filename):\n",
        "  messages = []\n",
        "  labels = []\n",
        "  with open(filename, 'r', encoding='utf-8') as csvfile:\n",
        "    reader = csv.reader(csvfile, delimiter=',')\n",
        "    for row in reader:\n",
        "      messages.append(row[1])\n",
        "      labels.append(row[2])\n",
        "  return messages, labels"
      ],
      "execution_count": null,
      "outputs": []
    },
    {
      "cell_type": "markdown",
      "metadata": {
        "id": "AVwkdKlBP7la"
      },
      "source": [
        "#XML to df (General only)"
      ]
    },
    {
      "cell_type": "code",
      "metadata": {
        "id": "EtCQE5BmOXz4"
      },
      "source": [
        "def general_tass_to_list(filename):\n",
        "  tree = etree.parse(filename)\n",
        "  root = tree.getroot()\n",
        "  data = []\n",
        "\n",
        "  for tweet in root:\n",
        "    tweetId = tweet.find('tweetid').text\n",
        "    content = tweet.find('content').text\n",
        "    polarityValue = tweet.find('sentiments/polarity/value').text\n",
        "    data.append([tweetId, content.replace('\\n',' '), polarityValue])\n",
        "  return data"
      ],
      "execution_count": null,
      "outputs": []
    },
    {
      "cell_type": "code",
      "metadata": {
        "id": "z8PXuz1PQJND"
      },
      "source": [
        "def general_tass_2017_to_list(filename,qrel=None):\n",
        "  tree = etree.parse(filename)\n",
        "  root = tree.getroot()\n",
        "  data = []\n",
        "\n",
        "  for tweet in root:\n",
        "    tweetId = tweet.find('tweetid').text\n",
        "    content = tweet.find('content').text\n",
        "    polarityValue = qrel[tweetId]\n",
        "    data.append([tweetId, content.replace('\\n',' '), polarityValue])\n",
        "\n",
        "  return data"
      ],
      "execution_count": null,
      "outputs": []
    },
    {
      "cell_type": "markdown",
      "metadata": {
        "id": "6VJ218wTSVEU"
      },
      "source": [
        "#Fuse general with it's sentiment"
      ]
    },
    {
      "cell_type": "code",
      "metadata": {
        "id": "rtgjiBXxSMmt"
      },
      "source": [
        "def gold_standard_to_dict(filename):\n",
        "  with open(filename, 'r') as csvfile:\n",
        "    reader = csv.reader(csvfile, delimiter='\\t')\n",
        "    data = {rows[0]: rows[1] for rows in reader}\n",
        "\n",
        "  return data"
      ],
      "execution_count": null,
      "outputs": []
    },
    {
      "cell_type": "markdown",
      "metadata": {
        "id": "s2KHBcKSSkDS"
      },
      "source": [
        "#Separate to train/test"
      ]
    },
    {
      "cell_type": "code",
      "metadata": {
        "id": "3uEZ0vLCSml3"
      },
      "source": [
        "def generate_train_test_subsets(data, size):\n",
        "  codes = [d[0] for d in data]\n",
        "  labels = [d[2] for d in data]\n",
        "  codes_train, codes_test, labels_train, labels_test = train_test_split(codes, labels, train_size=size)\n",
        "  train_data = [d for d in data if d[0] in codes_train]\n",
        "  test_data = [d for d in data if d[0] in codes_test]\n",
        "  return train_data, test_data"
      ],
      "execution_count": null,
      "outputs": []
    },
    {
      "cell_type": "markdown",
      "metadata": {
        "id": "H4vOv0smS3px"
      },
      "source": [
        "#Execute"
      ]
    },
    {
      "cell_type": "code",
      "metadata": {
        "colab": {
          "base_uri": "https://localhost:8080/"
        },
        "id": "_TDdHJyITBom",
        "outputId": "75850625-6928-482c-9952-ddd6336af715"
      },
      "source": [
        "!git clone 'https://github.com/luisFernandoCastellanosG/Machine_learning'"
      ],
      "execution_count": null,
      "outputs": [
        {
          "output_type": "stream",
          "text": [
            "fatal: destination path 'Machine_learning' already exists and is not an empty directory.\n"
          ],
          "name": "stdout"
        }
      ]
    },
    {
      "cell_type": "code",
      "metadata": {
        "id": "zWnqRdsuS6R_"
      },
      "source": [
        "data = []\n",
        "qrel = gold_standard_to_dict(\"/content/Machine_learning/Analisis_sentimientos_Twitter/espanish/datasets/Corpus/tass_2017/General Corpus of TASS/general-sentiment-3l.qrel\")\n",
        "data.extend(general_tass_2017_to_list(\"/content/Machine_learning/Analisis_sentimientos_Twitter/espanish/datasets/Corpus/tass_2017/General Corpus of TASS/general-tweets-test.xml\", qrel))"
      ],
      "execution_count": null,
      "outputs": []
    },
    {
      "cell_type": "markdown",
      "metadata": {
        "id": "f9HwjUkYdjTf"
      },
      "source": [
        "#Define variables"
      ]
    },
    {
      "cell_type": "code",
      "metadata": {
        "id": "z29zCYymdTAR"
      },
      "source": [
        "NORMALIZE = 'normalize'\n",
        "REMOVE = 'remove'\n",
        "MENTION = 'twmention'\n",
        "HASHTAG = 'twhashtag'\n",
        "URL = 'twurl'\n",
        "LAUGH = 'twlaugh'\n",
        "_stemmer = SnowballStemmer('spanish')\n",
        "_tokenizer = TweetTokenizer().tokenize\n",
        "_twitter_features=\"normalize\"\n",
        "_stemming=False\n",
        "#Stuff to normalize\n",
        "DIACRITICAL_VOWELS = [('á','a'), ('é','e'), ('í','i'), ('ó','o'), ('ú','u'), ('ü','u')]\n",
        "SLANG = [('d','de'), ('[qk]','que'), ('xo','pero'), ('xa', 'para'), ('[xp]q','porque'),('es[qk]', 'es que'),\n",
        "         ('fvr','favor'),('(xfa|xf|pf|plis|pls|porfa)', 'por favor'), ('dnd','donde'), ('tb', 'también'),\n",
        "         ('(tq|tk)', 'te quiero'), ('(tqm|tkm)', 'te quiero mucho'), ('x','por'), ('\\+','mas')]"
      ],
      "execution_count": null,
      "outputs": []
    },
    {
      "cell_type": "markdown",
      "metadata": {
        "id": "GblWJdB0eIQH"
      },
      "source": [
        "#Functions to normalize"
      ]
    },
    {
      "cell_type": "code",
      "metadata": {
        "id": "C7xndIJfd2FP"
      },
      "source": [
        "def normalize_laughs(message):\n",
        "  message = re.sub(r'\\b(?=\\w*[j])[aeiouj]{4,}\\b', LAUGH, message, flags=re.IGNORECASE)\n",
        "  message = re.sub(r'\\b(?=\\w*[k])[aeiouk]{4,}\\b', LAUGH, message, flags=re.IGNORECASE)\n",
        "  message = re.sub(r'\\b(?=\\w*[h])[aeiouk]{4,}\\b', LAUGH, message, flags=re.IGNORECASE)\n",
        "  message = re.sub(r'\\b(juas+|lol)\\b', LAUGH, message, flags=re.IGNORECASE)\n",
        "  return message"
      ],
      "execution_count": null,
      "outputs": []
    },
    {
      "cell_type": "code",
      "metadata": {
        "id": "WDlAOq1reVT-"
      },
      "source": [
        "def process_twitter_features(message, twitter_features):\n",
        "  message = re.sub(r'[\\.\\,]http','. http', message, flags=re.IGNORECASE)\n",
        "  message = re.sub(r'[\\.\\,]#', '. #', message)\n",
        "  message = re.sub(r'[\\.\\,]@', '. @', message)\n",
        "  if twitter_features == REMOVE:\n",
        "    message = re.sub(r'((?<=\\s)|(?<=\\A))(@|#)\\S+', '', message)\n",
        "    message = re.sub(r'\\b(https?:\\S+)\\b', '', message, flags=re.IGNORECASE)\n",
        "  elif twitter_features == NORMALIZE:\n",
        "    message = re.sub(r'((?<=\\s)|(?<=\\A))@\\S+', MENTION, message)\n",
        "    message = re.sub(r'((?<=\\s)|(?<=\\A))#\\S+', HASHTAG, message)\n",
        "    message = re.sub(r'\\b(https?:\\S+)\\b', URL, message, flags=re.IGNORECASE)\n",
        "  return message"
      ],
      "execution_count": null,
      "outputs": []
    },
    {
      "cell_type": "code",
      "metadata": {
        "id": "gs0udkU2es87"
      },
      "source": [
        "def preprocess(message):\n",
        "  message = message.lower()\n",
        "  message = re.sub(r'(\\d+|\\n|\\brt\\b)', '', message)\n",
        "  for s,t in DIACRITICAL_VOWELS:\n",
        "    message = re.sub(r'{0}'.format(s), t, message)\n",
        "  message = re.sub(r'(.)\\1{2,}', r'\\1\\1', message)\n",
        "  message = normalize_laughs(message)\n",
        "  for s,t in SLANG:\n",
        "    message = re.sub(r'\\b{0}\\b'.format(s), t, message)\n",
        "  message = process_twitter_features(message, _twitter_features)\n",
        "  if _stemming:\n",
        "    message = ' '.join(_stemmer.stem(w) for w in _tokenizer(message))\n",
        "\n",
        "  return message"
      ],
      "execution_count": null,
      "outputs": []
    },
    {
      "cell_type": "markdown",
      "metadata": {
        "id": "ZLqFdbUBfd6q"
      },
      "source": [
        "#Download stopwords"
      ]
    },
    {
      "cell_type": "code",
      "metadata": {
        "colab": {
          "base_uri": "https://localhost:8080/"
        },
        "id": "9gw_M4jQfGbb",
        "outputId": "9219c409-68b8-4bc4-bbda-51fef59d0d43"
      },
      "source": [
        "nltk.download('stopwords')"
      ],
      "execution_count": null,
      "outputs": [
        {
          "output_type": "stream",
          "text": [
            "[nltk_data] Downloading package stopwords to /root/nltk_data...\n",
            "[nltk_data]   Package stopwords is already up-to-date!\n"
          ],
          "name": "stdout"
        },
        {
          "output_type": "execute_result",
          "data": {
            "text/plain": [
              "True"
            ]
          },
          "metadata": {
            "tags": []
          },
          "execution_count": 34
        }
      ]
    },
    {
      "cell_type": "markdown",
      "metadata": {
        "id": "5bkyaZUYyHvX"
      },
      "source": [
        "#Read data and refine it"
      ]
    },
    {
      "cell_type": "code",
      "metadata": {
        "id": "ee0paOCBxHei"
      },
      "source": [
        "df = pd.read_csv('https://raw.githubusercontent.com/luisFernandoCastellanosG/Machine_learning/master/Analisis_sentimientos_Twitter/espanish/datasets/Corpus/dataset_2017_full.csv', encoding='utf-8')\n",
        "#Index the data\n",
        "df.columns = ['Tweetid', 'Tweet','Sentiment']\n",
        "#Eliminate useless data\n",
        "df = df.drop(columns=\"Tweetid\")\n",
        "#Normalize the data\n",
        "df['Tweet'] = df['Tweet'].apply(preprocess)\n",
        "df.loc[df['Sentiment'] == 'NONE', 'Sentiment'] = '-1'\n",
        "df.loc[df['Sentiment'] == 'NEU', 'Sentiment'] = '0'\n",
        "df.loc[df['Sentiment'] == 'P', 'Sentiment'] = '1'\n",
        "df.loc[df['Sentiment'] == 'N', 'Sentiment'] = '2'\n",
        "df[\"Sentiment\"].unique()\n",
        "#Save to Drive\n",
        "df.to_csv('/content/drive/MyDrive/TweeterDataCSV/dataset_2017_refined.csv', index=False, encoding='utf-8')"
      ],
      "execution_count": null,
      "outputs": []
    },
    {
      "cell_type": "markdown",
      "metadata": {
        "id": "uGtuP59lykMg"
      },
      "source": [
        "#Tokenize/extract"
      ]
    },
    {
      "cell_type": "code",
      "metadata": {
        "id": "FWRoWMjAyG5x"
      },
      "source": [
        "#Tokenize *and* clean\n",
        "def tokenizer(text):\n",
        "    text = re.sub('<[^>]*>', '', text)\n",
        "    emoticons = re.findall('(?::|;|=)(?:-)?(?:\\)|\\(|D|P)', text.lower())\n",
        "    text = re.sub('[\\W]+', ' ', text.lower()) +' '.join(emoticons).replace('-', '')\n",
        "    tokenized = [w for w in text.split() if w not in stop]\n",
        "    return tokenized\n",
        "#Extract a document\n",
        "def stream_docs(path):\n",
        "    with open(path, 'r', encoding='utf-8') as csv:\n",
        "        next(csv)  # skip header\n",
        "        for line in csv:\n",
        "            text, label = line[:-3],  int(line[-2])\n",
        "            yield text, label\n",
        "#Return a number of documents\n",
        "def get_minibatch(doc_stream, size):\n",
        "    docs, y = [], []\n",
        "    try:\n",
        "        for _ in range(size):\n",
        "            text, label = next(doc_stream)\n",
        "            docs.append(text)\n",
        "            y.append(label)\n",
        "    except StopIteration:\n",
        "        return None, None\n",
        "    return docs, y"
      ],
      "execution_count": null,
      "outputs": []
    },
    {
      "cell_type": "markdown",
      "metadata": {
        "id": "uehXWsmMzG0V"
      },
      "source": [
        "#Train"
      ]
    },
    {
      "cell_type": "code",
      "metadata": {
        "colab": {
          "base_uri": "https://localhost:8080/"
        },
        "id": "a-7xtPRVy_4H",
        "outputId": "cb67ffa2-7857-47d1-86fb-9242c66a96e3"
      },
      "source": [
        "path='/content/drive/MyDrive/TweeterDataCSV/dataset_2017_refined.csv'\n",
        "vect = HashingVectorizer(decode_error='ignore', \n",
        "                         n_features=2**21,\n",
        "                         preprocessor=None, \n",
        "                         tokenizer=tokenizer)\n",
        "clf = SGDClassifier(loss='log', random_state=1, max_iter=1)\n",
        "doc_stream = stream_docs(path)\n",
        "stop = stopwords.words('spanish')\n",
        "classes = np.array([-1,0, 1,2])\n",
        "for _ in range(50):\n",
        "    X_train, y_train = get_minibatch(doc_stream, size=1000)\n",
        "    if not X_train:\n",
        "        break\n",
        "    X_train = vect.transform(X_train)\n",
        "    clf.partial_fit(X_train, y_train, classes=classes)\n",
        "X_test, y_test = get_minibatch(doc_stream, size=5000)\n",
        "X_test = vect.transform(X_test)\n",
        "print('Precision: %.3f' % clf.score(X_test, y_test))\n",
        "clf = clf.partial_fit(X_test, y_test)"
      ],
      "execution_count": null,
      "outputs": [
        {
          "output_type": "stream",
          "text": [
            "Precision: 0.806\n"
          ],
          "name": "stdout"
        }
      ]
    },
    {
      "cell_type": "markdown",
      "metadata": {
        "id": "OOIyXSio01vG"
      },
      "source": [
        "#Save to Drive"
      ]
    },
    {
      "cell_type": "code",
      "metadata": {
        "id": "on-SrwW6033f"
      },
      "source": [
        "dest = os.path.join('/content/drive/MyDrive/TweeterDataCSV/Classifier', 'pkl_objects')\n",
        "if not os.path.exists(dest):\n",
        "    os.makedirs(dest)\n",
        "pickle.dump(stop, open(os.path.join(dest, 'stopwords.pkl'), 'wb'), protocol=4)   \n",
        "pickle.dump(clf, open(os.path.join(dest, 'classifier.pkl'), 'wb'), protocol=4)"
      ],
      "execution_count": null,
      "outputs": []
    },
    {
      "cell_type": "markdown",
      "metadata": {
        "id": "16CVjzNM1Q1_"
      },
      "source": [
        "Change the default file direction to Classifier (Why tho?)"
      ]
    },
    {
      "cell_type": "code",
      "metadata": {
        "id": "uO_0AWYd1Z4G"
      },
      "source": [
        "#Why\n",
        "os.chdir('/content/drive/MyDrive/TweeterDataCSV/Classifier')\n",
        "#How\n",
        "#Much pain"
      ],
      "execution_count": null,
      "outputs": []
    },
    {
      "cell_type": "markdown",
      "metadata": {
        "id": "-5T4qe2W9nop"
      },
      "source": [
        "Deserialize"
      ]
    },
    {
      "cell_type": "code",
      "metadata": {
        "id": "zQCZSrxa9UTA"
      },
      "source": [
        "clf = pickle.load(open(os.path.join('/content/drive/MyDrive/TweeterDataCSV/Classifier/pkl_objects/', 'classifier.pkl'), 'rb'))"
      ],
      "execution_count": null,
      "outputs": []
    },
    {
      "cell_type": "markdown",
      "metadata": {
        "id": "yJKH-qGXACE_"
      },
      "source": [
        "#Normalize/analyze the data"
      ]
    },
    {
      "cell_type": "code",
      "metadata": {
        "colab": {
          "base_uri": "https://localhost:8080/",
          "height": 899
        },
        "id": "WFfYT05e9qIP",
        "outputId": "3cb2af5b-9cf8-4ce1-e245-b59add59c5c3"
      },
      "source": [
        "pbar = pyprind.ProgBar(50000)\n",
        "df = pd.read_csv('/content/drive/MyDrive/TweeterDataCSV/paro_nacional_raw_unfiltered.csv', encoding='utf-8')\n",
        "#creamos una columna llamada Sentimient donde guardaremos la predicción\n",
        "df['Sentiment'] =''\n",
        "#creamos una columna llamada Probability donde guardaremos la acertabilidad que dio el clasificador\n",
        "df['Probability']=0\n",
        "#conversión de sentimientos (numeros a palabras)= NONE->-1 | NEU -> 0 | P->1 | N->2\n",
        "label = {-1:'No feeling', 0:'Neutral', 1:'Positive',2: 'Negative'}\n",
        "for rowid in range(len(df.index)):\n",
        "  text=df['Text'][rowid]\n",
        "  textConvert = vect.transform([text]) \n",
        "  df['Sentiment'][rowid]=label[clf.predict(textConvert)[0]]\n",
        "  df['Probability'][rowid]=np.max(clf.predict_proba(textConvert))*100\n",
        "  pbar.update()\n",
        "df.head(20)"
      ],
      "execution_count": null,
      "outputs": [
        {
          "output_type": "stream",
          "text": [
            "/usr/local/lib/python3.7/dist-packages/ipykernel_launcher.py:12: SettingWithCopyWarning: \n",
            "A value is trying to be set on a copy of a slice from a DataFrame\n",
            "\n",
            "See the caveats in the documentation: https://pandas.pydata.org/pandas-docs/stable/user_guide/indexing.html#returning-a-view-versus-a-copy\n",
            "  if sys.path[0] == '':\n",
            "/usr/local/lib/python3.7/dist-packages/ipykernel_launcher.py:13: SettingWithCopyWarning: \n",
            "A value is trying to be set on a copy of a slice from a DataFrame\n",
            "\n",
            "See the caveats in the documentation: https://pandas.pydata.org/pandas-docs/stable/user_guide/indexing.html#returning-a-view-versus-a-copy\n",
            "  del sys.path[0]\n",
            "0% [######                        ] 100% | ETA: 00:29:31"
          ],
          "name": "stderr"
        },
        {
          "output_type": "execute_result",
          "data": {
            "text/html": [
              "<div>\n",
              "<style scoped>\n",
              "    .dataframe tbody tr th:only-of-type {\n",
              "        vertical-align: middle;\n",
              "    }\n",
              "\n",
              "    .dataframe tbody tr th {\n",
              "        vertical-align: top;\n",
              "    }\n",
              "\n",
              "    .dataframe thead th {\n",
              "        text-align: right;\n",
              "    }\n",
              "</style>\n",
              "<table border=\"1\" class=\"dataframe\">\n",
              "  <thead>\n",
              "    <tr style=\"text-align: right;\">\n",
              "      <th></th>\n",
              "      <th>User</th>\n",
              "      <th>Location</th>\n",
              "      <th>Text</th>\n",
              "      <th>Sentiment</th>\n",
              "      <th>Probability</th>\n",
              "    </tr>\n",
              "  </thead>\n",
              "  <tbody>\n",
              "    <tr>\n",
              "      <th>0</th>\n",
              "      <td>lecheconarro</td>\n",
              "      <td>NaN</td>\n",
              "      <td>RT @tinixarianator: \"LE DOY 200MIL AL QUE ME A...</td>\n",
              "      <td>Positive</td>\n",
              "      <td>76</td>\n",
              "    </tr>\n",
              "    <tr>\n",
              "      <th>1</th>\n",
              "      <td>_cringyj_</td>\n",
              "      <td>he/him</td>\n",
              "      <td>RT @Reytorre: Murillo llena por ambos carriles...</td>\n",
              "      <td>Positive</td>\n",
              "      <td>68</td>\n",
              "    </tr>\n",
              "    <tr>\n",
              "      <th>2</th>\n",
              "      <td>Burbuja86757842</td>\n",
              "      <td>NaN</td>\n",
              "      <td>RT @AlirioUribeMuoz: Muy preocupante que la @P...</td>\n",
              "      <td>Negative</td>\n",
              "      <td>49</td>\n",
              "    </tr>\n",
              "    <tr>\n",
              "      <th>3</th>\n",
              "      <td>Jasonripivi</td>\n",
              "      <td>NaN</td>\n",
              "      <td>RT @angelamrobledo: Si están probando censurar...</td>\n",
              "      <td>Negative</td>\n",
              "      <td>53</td>\n",
              "    </tr>\n",
              "    <tr>\n",
              "      <th>4</th>\n",
              "      <td>YUDAIvaAdebutar</td>\n",
              "      <td>in the mágic shop</td>\n",
              "      <td>RT @nacisingracia_: Una de las mejores frases ...</td>\n",
              "      <td>Positive</td>\n",
              "      <td>71</td>\n",
              "    </tr>\n",
              "    <tr>\n",
              "      <th>5</th>\n",
              "      <td>moonchil_lu</td>\n",
              "      <td>NaN</td>\n",
              "      <td>RT @ivntepop: 🇨🇴Aquí vamos, RESISTENCIA COLOMB...</td>\n",
              "      <td>Positive</td>\n",
              "      <td>71</td>\n",
              "    </tr>\n",
              "    <tr>\n",
              "      <th>6</th>\n",
              "      <td>DuxDumb</td>\n",
              "      <td>He!they✪㋛︎⌫</td>\n",
              "      <td>RT @Lau96215173: @DalasReview @DalasReview esp...</td>\n",
              "      <td>Positive</td>\n",
              "      <td>63</td>\n",
              "    </tr>\n",
              "    <tr>\n",
              "      <th>7</th>\n",
              "      <td>FrankAC9</td>\n",
              "      <td>Colombia</td>\n",
              "      <td>RT @LVMMOT7: Londres en este momento✊🏽🇨🇴 https...</td>\n",
              "      <td>Positive</td>\n",
              "      <td>68</td>\n",
              "    </tr>\n",
              "    <tr>\n",
              "      <th>8</th>\n",
              "      <td>gabrielapovedaa</td>\n",
              "      <td>NaN</td>\n",
              "      <td>RT @Reytorre: Murillo llena por ambos carriles...</td>\n",
              "      <td>Positive</td>\n",
              "      <td>68</td>\n",
              "    </tr>\n",
              "    <tr>\n",
              "      <th>9</th>\n",
              "      <td>Yuriana09600948</td>\n",
              "      <td>NaN</td>\n",
              "      <td>RT @Raspao__: SUCEDE EN BUGA, VALLE DEL CAUCA....</td>\n",
              "      <td>Positive</td>\n",
              "      <td>65</td>\n",
              "    </tr>\n",
              "    <tr>\n",
              "      <th>10</th>\n",
              "      <td>AndresEQuintero</td>\n",
              "      <td>Omicron Persei 8</td>\n",
              "      <td>RT @val_10o: ESTAN GASEANDO LOS BARRIOS!!! DON...</td>\n",
              "      <td>Negative</td>\n",
              "      <td>48</td>\n",
              "    </tr>\n",
              "    <tr>\n",
              "      <th>11</th>\n",
              "      <td>luis14143</td>\n",
              "      <td>Frontino Ant</td>\n",
              "      <td>RT @jaiber5_3: #Anonymus ahora nos disparan de...</td>\n",
              "      <td>Positive</td>\n",
              "      <td>65</td>\n",
              "    </tr>\n",
              "    <tr>\n",
              "      <th>12</th>\n",
              "      <td>CAR4JO</td>\n",
              "      <td>Buenos Aires, Argentina</td>\n",
              "      <td>RT @LVMMOT7: Londres en este momento✊🏽🇨🇴 https...</td>\n",
              "      <td>Positive</td>\n",
              "      <td>68</td>\n",
              "    </tr>\n",
              "    <tr>\n",
              "      <th>13</th>\n",
              "      <td>FabinCeballos11</td>\n",
              "      <td>NaN</td>\n",
              "      <td>RT @Ulyssevengmail1: Colombianos en Londres sa...</td>\n",
              "      <td>Negative</td>\n",
              "      <td>54</td>\n",
              "    </tr>\n",
              "    <tr>\n",
              "      <th>14</th>\n",
              "      <td>Pirron_Esceptic</td>\n",
              "      <td>Colombia</td>\n",
              "      <td>RT @cutcolombia: #ParoNacional5M \\n\\n📌 En el m...</td>\n",
              "      <td>Positive</td>\n",
              "      <td>60</td>\n",
              "    </tr>\n",
              "    <tr>\n",
              "      <th>15</th>\n",
              "      <td>Kuromyee</td>\n",
              "      <td>Bogotá</td>\n",
              "      <td>RT @cutcolombia: #ParoNacional5M \\n\\n📌 En el m...</td>\n",
              "      <td>Positive</td>\n",
              "      <td>60</td>\n",
              "    </tr>\n",
              "    <tr>\n",
              "      <th>16</th>\n",
              "      <td>andermunoz_or</td>\n",
              "      <td>Isnos, Colombia</td>\n",
              "      <td>Mis fuerzas a todos lo que salen a marchar en ...</td>\n",
              "      <td>Positive</td>\n",
              "      <td>61</td>\n",
              "    </tr>\n",
              "    <tr>\n",
              "      <th>17</th>\n",
              "      <td>Atziri48796384</td>\n",
              "      <td>NaN</td>\n",
              "      <td>RT @LVMMOT7: Londres en este momento✊🏽🇨🇴 https...</td>\n",
              "      <td>Positive</td>\n",
              "      <td>68</td>\n",
              "    </tr>\n",
              "    <tr>\n",
              "      <th>18</th>\n",
              "      <td>JuanEstebanTro4</td>\n",
              "      <td>Popayán, Colombia</td>\n",
              "      <td>RT @cerosetenta: Así se ve la manifestación de...</td>\n",
              "      <td>Positive</td>\n",
              "      <td>58</td>\n",
              "    </tr>\n",
              "    <tr>\n",
              "      <th>19</th>\n",
              "      <td>Mariam00995621</td>\n",
              "      <td>NaN</td>\n",
              "      <td>RT @FisicoImpuro: URGENTE: Esto esta pasando e...</td>\n",
              "      <td>Positive</td>\n",
              "      <td>74</td>\n",
              "    </tr>\n",
              "  </tbody>\n",
              "</table>\n",
              "</div>"
            ],
            "text/plain": [
              "               User                 Location  ... Sentiment Probability\n",
              "0      lecheconarro                      NaN  ...  Positive          76\n",
              "1         _cringyj_                   he/him  ...  Positive          68\n",
              "2   Burbuja86757842                      NaN  ...  Negative          49\n",
              "3       Jasonripivi                      NaN  ...  Negative          53\n",
              "4   YUDAIvaAdebutar        in the mágic shop  ...  Positive          71\n",
              "5       moonchil_lu                      NaN  ...  Positive          71\n",
              "6           DuxDumb              He!they✪㋛︎⌫  ...  Positive          63\n",
              "7          FrankAC9                 Colombia  ...  Positive          68\n",
              "8   gabrielapovedaa                      NaN  ...  Positive          68\n",
              "9   Yuriana09600948                      NaN  ...  Positive          65\n",
              "10  AndresEQuintero         Omicron Persei 8  ...  Negative          48\n",
              "11        luis14143             Frontino Ant  ...  Positive          65\n",
              "12           CAR4JO  Buenos Aires, Argentina  ...  Positive          68\n",
              "13  FabinCeballos11                      NaN  ...  Negative          54\n",
              "14  Pirron_Esceptic                 Colombia  ...  Positive          60\n",
              "15         Kuromyee                   Bogotá  ...  Positive          60\n",
              "16    andermunoz_or          Isnos, Colombia  ...  Positive          61\n",
              "17   Atziri48796384                      NaN  ...  Positive          68\n",
              "18  JuanEstebanTro4        Popayán, Colombia  ...  Positive          58\n",
              "19   Mariam00995621                      NaN  ...  Positive          74\n",
              "\n",
              "[20 rows x 5 columns]"
            ]
          },
          "metadata": {
            "tags": []
          },
          "execution_count": 56
        }
      ]
    },
    {
      "cell_type": "markdown",
      "metadata": {
        "id": "FltS0TQhAPLS"
      },
      "source": [
        "Save to Drive"
      ]
    },
    {
      "cell_type": "code",
      "metadata": {
        "id": "_0aCRWqp__zM"
      },
      "source": [
        "df.to_csv('/content/drive/MyDrive/TweeterDataCSV/paro_nacional_treated_filtered.csv', index=False, encoding='utf-8')"
      ],
      "execution_count": null,
      "outputs": []
    },
    {
      "cell_type": "markdown",
      "metadata": {
        "id": "xGgu7S9eDn6R"
      },
      "source": [
        "This also analyzes the data"
      ]
    },
    {
      "cell_type": "code",
      "metadata": {
        "id": "tObCcOrqA1ya"
      },
      "source": [
        "def f_prediction(row):\n",
        "  text=row['Text']\n",
        "  textConvert = vect.transform([text]) \n",
        "  return label[clf.predict(textConvert)[0]]\n",
        "\n",
        "def f_probability(row):\n",
        "  text=row['Text']\n",
        "  textConvert = vect.transform([text]) \n",
        "  return np.max(clf.predict_proba(textConvert))*100\n",
        "\n",
        "df[\"Sentiment\"] = df.apply(f_prediction, axis=1)\n",
        "df[\"Probability\"] = df.apply(f_probability, axis=1)"
      ],
      "execution_count": null,
      "outputs": []
    },
    {
      "cell_type": "code",
      "metadata": {
        "colab": {
          "base_uri": "https://localhost:8080/",
          "height": 391
        },
        "id": "vY5gcwGPDnAl",
        "outputId": "b3469a4e-31ae-423b-fd76-bb8ac99fd60e"
      },
      "source": [
        "df.groupby('Sentiment')['Location'].nunique().plot(kind='bar')\n",
        "print(df.groupby(['Sentiment']).size())\n",
        "plt.show()"
      ],
      "execution_count": null,
      "outputs": [
        {
          "output_type": "stream",
          "text": [
            "Sentiment\n",
            "Negative    1584\n",
            "Positive    8416\n",
            "dtype: int64\n"
          ],
          "name": "stdout"
        },
        {
          "output_type": "display_data",
          "data": {
            "image/png": "[encoded data removed]",
            "text/plain": [
              "<Figure size 432x288 with 1 Axes>"
            ]
          },
          "metadata": {
            "tags": [],
            "needs_background": "light"
          }
        }
      ]
    }
  ]
}