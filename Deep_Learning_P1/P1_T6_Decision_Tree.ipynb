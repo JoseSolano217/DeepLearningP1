{
  "nbformat": 4,
  "nbformat_minor": 0,
  "metadata": {
    "colab": {
      "name": "P1_T6_Decision_Tree.ipynb",
      "provenance": []
    },
    "kernelspec": {
      "name": "python3",
      "display_name": "Python 3"
    }
  },
  "cells": [
    {
      "cell_type": "code",
      "metadata": {
        "id": "rkFJ67ByGq8M"
      },
      "source": [
        "import numpy as np\r\n",
        "import pandas as pd \r\n",
        "from sklearn.model_selection import train_test_split\r\n",
        "from sklearn.tree import DecisionTreeClassifier\r\n",
        "from sklearn.metrics import accuracy_score\r\n",
        "import matplotlib.pyplot as plt\r\n",
        "import seaborn as sns\r\n",
        "from sklearn.tree import export_graphviz\r\n",
        "from pydotplus import graph_from_dot_data\r\n",
        "from sklearn.impute import SimpleImputer\r\n",
        "from sklearn.experimental import enable_iterative_imputer\r\n",
        "from sklearn.impute import IterativeImputer"
      ],
      "execution_count": 1,
      "outputs": []
    },
    {
      "cell_type": "code",
      "metadata": {
        "id": "0NOhZ_R0G72B"
      },
      "source": [
        "df_titanic = pd.read_csv(\"https://raw.githubusercontent.com/luisFernandoCastellanosG/Machine_learning/master/Databasets/dataset_titanic.csv\")\r\n",
        "df_titanic.head()"
      ],
      "execution_count": null,
      "outputs": []
    },
    {
      "cell_type": "code",
      "metadata": {
        "colab": {
          "base_uri": "https://localhost:8080/"
        },
        "id": "gCeFIe16HZ3J",
        "outputId": "45c856a7-4c15-4539-e712-ae74b8109113"
      },
      "source": [
        "df_titanic.columns\r\n",
        "df_titanic.describe()\r\n",
        "df_titanic.isnull().sum()"
      ],
      "execution_count": 3,
      "outputs": [
        {
          "output_type": "execute_result",
          "data": {
            "text/plain": [
              "PassengerId      0\n",
              "Survived         0\n",
              "Pclass           0\n",
              "Name             0\n",
              "Sex              0\n",
              "Age            177\n",
              "SibSp            0\n",
              "Parch            0\n",
              "Ticket           0\n",
              "Fare             0\n",
              "Cabin          687\n",
              "Embarked         2\n",
              "dtype: int64"
            ]
          },
          "metadata": {
            "tags": []
          },
          "execution_count": 3
        }
      ]
    },
    {
      "cell_type": "code",
      "metadata": {
        "colab": {
          "base_uri": "https://localhost:8080/",
          "height": 206
        },
        "id": "g6JUoCCqHh5w",
        "outputId": "0cc06b9d-9249-42c9-e1f0-de5f9757aea1"
      },
      "source": [
        "df_titanic.drop(['Cabin','PassengerId','Name','Ticket','Embarked ', 'Sex'], axis=1,inplace=True)\r\n",
        "df_titanic.dropna(inplace=True)\r\n",
        "df_titanic.head()"
      ],
      "execution_count": 7,
      "outputs": [
        {
          "output_type": "execute_result",
          "data": {
            "text/html": [
              "<div>\n",
              "<style scoped>\n",
              "    .dataframe tbody tr th:only-of-type {\n",
              "        vertical-align: middle;\n",
              "    }\n",
              "\n",
              "    .dataframe tbody tr th {\n",
              "        vertical-align: top;\n",
              "    }\n",
              "\n",
              "    .dataframe thead th {\n",
              "        text-align: right;\n",
              "    }\n",
              "</style>\n",
              "<table border=\"1\" class=\"dataframe\">\n",
              "  <thead>\n",
              "    <tr style=\"text-align: right;\">\n",
              "      <th></th>\n",
              "      <th>Survived</th>\n",
              "      <th>Pclass</th>\n",
              "      <th>Age</th>\n",
              "      <th>SibSp</th>\n",
              "      <th>Parch</th>\n",
              "      <th>Fare</th>\n",
              "    </tr>\n",
              "  </thead>\n",
              "  <tbody>\n",
              "    <tr>\n",
              "      <th>0</th>\n",
              "      <td>0</td>\n",
              "      <td>3</td>\n",
              "      <td>22.0</td>\n",
              "      <td>1</td>\n",
              "      <td>0</td>\n",
              "      <td>7.2500</td>\n",
              "    </tr>\n",
              "    <tr>\n",
              "      <th>1</th>\n",
              "      <td>1</td>\n",
              "      <td>1</td>\n",
              "      <td>38.0</td>\n",
              "      <td>1</td>\n",
              "      <td>0</td>\n",
              "      <td>71.2833</td>\n",
              "    </tr>\n",
              "    <tr>\n",
              "      <th>2</th>\n",
              "      <td>1</td>\n",
              "      <td>3</td>\n",
              "      <td>26.0</td>\n",
              "      <td>0</td>\n",
              "      <td>0</td>\n",
              "      <td>7.9250</td>\n",
              "    </tr>\n",
              "    <tr>\n",
              "      <th>3</th>\n",
              "      <td>1</td>\n",
              "      <td>1</td>\n",
              "      <td>35.0</td>\n",
              "      <td>1</td>\n",
              "      <td>0</td>\n",
              "      <td>53.1000</td>\n",
              "    </tr>\n",
              "    <tr>\n",
              "      <th>4</th>\n",
              "      <td>0</td>\n",
              "      <td>3</td>\n",
              "      <td>35.0</td>\n",
              "      <td>0</td>\n",
              "      <td>0</td>\n",
              "      <td>8.0500</td>\n",
              "    </tr>\n",
              "  </tbody>\n",
              "</table>\n",
              "</div>"
            ],
            "text/plain": [
              "   Survived  Pclass   Age  SibSp  Parch     Fare\n",
              "0         0       3  22.0      1      0   7.2500\n",
              "1         1       1  38.0      1      0  71.2833\n",
              "2         1       3  26.0      0      0   7.9250\n",
              "3         1       1  35.0      1      0  53.1000\n",
              "4         0       3  35.0      0      0   8.0500"
            ]
          },
          "metadata": {
            "tags": []
          },
          "execution_count": 7
        }
      ]
    },
    {
      "cell_type": "code",
      "metadata": {
        "colab": {
          "base_uri": "https://localhost:8080/"
        },
        "id": "__wXjy9wKPhd",
        "outputId": "0a27a406-eb8a-47fb-af94-75f9197abe5a"
      },
      "source": [
        "X= df_titanic[[\"Pclass\",\"Age\",\"SibSp\",\"Parch\"]]\r\n",
        "Y= df_titanic['Survived']\r\n",
        "X_train, X_test, Y_train,Y_test = train_test_split(X,Y,test_size=0.3, random_state=4)\r\n",
        "arbol.fit(X_train,Y_train)"
      ],
      "execution_count": 12,
      "outputs": [
        {
          "output_type": "execute_result",
          "data": {
            "text/plain": [
              "DecisionTreeClassifier(ccp_alpha=0.0, class_weight=None, criterion='gini',\n",
              "                       max_depth=1, max_features=None, max_leaf_nodes=None,\n",
              "                       min_impurity_decrease=0.0, min_impurity_split=None,\n",
              "                       min_samples_leaf=1, min_samples_split=2,\n",
              "                       min_weight_fraction_leaf=0.0, presort='deprecated',\n",
              "                       random_state=42, splitter='best')"
            ]
          },
          "metadata": {
            "tags": []
          },
          "execution_count": 12
        }
      ]
    },
    {
      "cell_type": "code",
      "metadata": {
        "colab": {
          "base_uri": "https://localhost:8080/",
          "height": 297
        },
        "id": "A50g-F7hIit5",
        "outputId": "edc53a96-8132-4542-c54f-a762f9f0ed52"
      },
      "source": [
        "depth_list = list(range(1,6))\r\n",
        "accuracy_list=[]\r\n",
        "for depth in depth_list:\r\n",
        "  arbol = DecisionTreeClassifier(max_depth=depth,random_state=42)\r\n",
        "  arbol.fit(X_train,Y_train)\r\n",
        "  score= arbol.score(X_test,Y_test)\r\n",
        "  accuracy_list.append(score)\r\n",
        "plt.plot(depth_list, accuracy_list)\r\n",
        "plt.ylabel('accuracy')\r\n",
        "plt.xlabel('depth')\r\n",
        "plt.grid(True)\r\n",
        "plt.show"
      ],
      "execution_count": 26,
      "outputs": [
        {
          "output_type": "execute_result",
          "data": {
            "text/plain": [
              "<function matplotlib.pyplot.show>"
            ]
          },
          "metadata": {
            "tags": []
          },
          "execution_count": 26
        },
        {
          "output_type": "display_data",
          "data": {
            "image/png": "[encoded data removed]",
            "text/plain": [
              "<Figure size 432x288 with 1 Axes>"
            ]
          },
          "metadata": {
            "tags": [],
            "needs_background": "light"
          }
        }
      ]
    },
    {
      "cell_type": "code",
      "metadata": {
        "colab": {
          "base_uri": "https://localhost:8080/"
        },
        "id": "IFQidousK2hW",
        "outputId": "1fae2940-c6a9-4f59-904c-1f46609393b9"
      },
      "source": [
        "imp = SimpleImputer(missing_values = np.nan, strategy = 'mean')\r\n",
        "imp.fit(X, Y)\r\n",
        "df_titanic.isnull().sum()"
      ],
      "execution_count": 22,
      "outputs": [
        {
          "output_type": "execute_result",
          "data": {
            "text/plain": [
              "Survived    0\n",
              "Pclass      0\n",
              "Age         0\n",
              "SibSp       0\n",
              "Parch       0\n",
              "Fare        0\n",
              "dtype: int64"
            ]
          },
          "metadata": {
            "tags": []
          },
          "execution_count": 22
        }
      ]
    },
    {
      "cell_type": "code",
      "metadata": {
        "colab": {
          "base_uri": "https://localhost:8080/"
        },
        "id": "sqqYqPBRL8Rf",
        "outputId": "c090fc0c-62e9-47b9-bfa6-8297e255e503"
      },
      "source": [
        "X= df_titanic[[\"Pclass\",\"Age\",\"SibSp\",\"Parch\"]]\r\n",
        "Y= df_titanic['Survived']\r\n",
        "X_train, X_test, Y_train,Y_test = train_test_split(X,Y,test_size=0.3, random_state=4)\r\n",
        "arbol.fit(X_train,Y_train)"
      ],
      "execution_count": 24,
      "outputs": [
        {
          "output_type": "execute_result",
          "data": {
            "text/plain": [
              "Survived    0\n",
              "Pclass      0\n",
              "Age         0\n",
              "SibSp       0\n",
              "Parch       0\n",
              "Fare        0\n",
              "dtype: int64"
            ]
          },
          "metadata": {
            "tags": []
          },
          "execution_count": 24
        }
      ]
    },
    {
      "cell_type": "code",
      "metadata": {
        "colab": {
          "base_uri": "https://localhost:8080/"
        },
        "id": "rm8QM2v_KbMV",
        "outputId": "2342e8ab-098a-4e45-fe56-40fe5fcbdd5e"
      },
      "source": [
        "arbol = DecisionTreeClassifier(max_depth = 3,random_state = 0)\r\n",
        "arbol.fit(X_train,Y_train)\r\n",
        "y_train_predi=arbol.predict(X_train)\r\n",
        "y_test_predi= arbol.predict(X_test)\r\n",
        "print(\"Accuracy of train: %\"+ str(accuracy_score(y_train_predi,Y_train)))\r\n",
        "print(\"Accuracy of test: %\"+ str(accuracy_score(y_test_predi, Y_test)))\r\n",
        "print(\"Accuracy Global %\"+ str(arbol.score(X_test,Y_test)))"
      ],
      "execution_count": 25,
      "outputs": [
        {
          "output_type": "stream",
          "text": [
            "Accuracy of train: %0.7454909819639278\n",
            "Accuracy of test: %0.7162790697674418\n",
            "Accuracy Global %0.7162790697674418\n"
          ],
          "name": "stdout"
        }
      ]
    },
    {
      "cell_type": "code",
      "metadata": {
        "colab": {
          "base_uri": "https://localhost:8080/"
        },
        "id": "lVRCrGp9NJCc",
        "outputId": "85417ac4-9f9c-4ffe-dacc-19b36ed4e5ad"
      },
      "source": [
        "classs_name_list= list([\"dead\",\"live\"])\r\n",
        "dot_data= export_graphviz(arbol, feature_names=[\"Pclass\",\"Age\",\"SibSp\",\"Parch\"],class_names=classs_name_list)\r\n",
        "graphic= graph_from_dot_data(dot_data)\r\n",
        "graphic.write_png(\"arbol_titanic_v3.png\")"
      ],
      "execution_count": 28,
      "outputs": [
        {
          "output_type": "execute_result",
          "data": {
            "text/plain": [
              "True"
            ]
          },
          "metadata": {
            "tags": []
          },
          "execution_count": 28
        }
      ]
    }
  ]
}