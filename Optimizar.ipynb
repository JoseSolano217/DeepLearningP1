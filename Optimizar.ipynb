{
  "nbformat": 4,
  "nbformat_minor": 0,
  "metadata": {
    "colab": {
      "name": "Optimizar.ipynb",
      "provenance": [],
      "collapsed_sections": []
    },
    "kernelspec": {
      "name": "python3",
      "display_name": "Python 3"
    }
  },
  "cells": [
    {
      "cell_type": "markdown",
      "metadata": {
        "id": "iFVb1K6g8s5L"
      },
      "source": [
        "##Import libraries and load the sample data"
      ]
    },
    {
      "cell_type": "code",
      "metadata": {
        "id": "SQu-tAc1VROj"
      },
      "source": [
        "import numpy as np\r\n",
        "import matplotlib.pyplot as plt\r\n",
        "import pandas as pd\r\n",
        "from sklearn import datasets\r\n",
        "from sklearn.model_selection import train_test_split\r\n",
        "from sklearn.preprocessing import StandardScaler\r\n",
        "boston_data = datasets.load_boston()\r\n",
        "boston_df = pd.DataFrame(boston_data.data, columns=boston_data.feature_names)\r\n",
        "boston = pd.DataFrame(boston_data.data, columns=boston_data.feature_names)\r\n",
        "boston['MEDV'] = boston_data.target"
      ],
      "execution_count": null,
      "outputs": []
    },
    {
      "cell_type": "markdown",
      "metadata": {
        "id": "Zm21-oJXvAcw"
      },
      "source": [
        "##Set the seaborn style"
      ]
    },
    {
      "cell_type": "code",
      "metadata": {
        "id": "kEDU_dwpvB_k"
      },
      "source": [
        "import seaborn as sns\r\n",
        "sns.set(style='whitegrid', context='notebook')\r\n",
        "sns.set(rc={'figure.figsize':(11.7,8.27)})"
      ],
      "execution_count": null,
      "outputs": []
    },
    {
      "cell_type": "markdown",
      "metadata": {
        "id": "3f_EFIhLvHRH"
      },
      "source": [
        "##Set the data for training and testing"
      ]
    },
    {
      "cell_type": "code",
      "metadata": {
        "colab": {
          "base_uri": "https://localhost:8080/"
        },
        "id": "YUn0fhVGvOty",
        "outputId": "51473f2a-c2f6-41af-fcf6-a5d3fc3cc8b2"
      },
      "source": [
        "X = pd.DataFrame(np.c_[boston['RAD'], boston['INDUS']], columns = ['RAD','INDUS'])\r\n",
        "y = boston['TAX']\r\n",
        "X_train, X_test, y_train, y_test = train_test_split(X, y, test_size=0.15)\r\n",
        "print(\"TRAIN--> X: {} - Y: {}\".format(X_train.shape,y_train.shape))\r\n",
        "print(\"TEST--> X: {} - Y: {}\".format(X_test.shape,y_test.shape))"
      ],
      "execution_count": null,
      "outputs": [
        {
          "output_type": "stream",
          "text": [
            "TRAIN--> X: (430, 2) - Y: (430,)\n",
            "TEST--> X: (76, 2) - Y: (76,)\n"
          ],
          "name": "stdout"
        }
      ]
    },
    {
      "cell_type": "markdown",
      "metadata": {
        "id": "4vhhA1vLvR2Z"
      },
      "source": [
        "##Add the linear regression"
      ]
    },
    {
      "cell_type": "code",
      "metadata": {
        "id": "YD0hMQVRvSto"
      },
      "source": [
        "from sklearn.linear_model import LinearRegression\r\n",
        "regressor = LinearRegression()\r\n",
        "regressor.fit(X_train, y_train)\r\n",
        "pred = regressor.predict(X_test)"
      ],
      "execution_count": null,
      "outputs": []
    },
    {
      "cell_type": "markdown",
      "metadata": {
        "id": "b6CRiH0fvX7s"
      },
      "source": [
        "##Show the finished model"
      ]
    },
    {
      "cell_type": "code",
      "metadata": {
        "colab": {
          "base_uri": "https://localhost:8080/",
          "height": 518
        },
        "id": "lG_ZA_czvZI5",
        "outputId": "e22aa6d3-dece-4265-b40c-b93c4890fd83"
      },
      "source": [
        "plt.scatter(+y_test, pred)\r\n",
        "plt.plot([y.min(), y.max()], [y.min(), y.max()], c='red', lw=2)\r\n",
        "plt.show()\r\n",
        "print(\"Precisión del modelo: \"+str(regressor.score(X_test, y_test)))"
      ],
      "execution_count": null,
      "outputs": [
        {
          "output_type": "display_data",
          "data": {
            "image/png": "[encoded data removed]",
            "text/plain": [
              "<Figure size 842.4x595.44 with 1 Axes>"
            ]
          },
          "metadata": {
            "tags": []
          }
        },
        {
          "output_type": "stream",
          "text": [
            "Precisión del modelo: 0.8980685306317968\n"
          ],
          "name": "stdout"
        }
      ]
    }
  ]
}